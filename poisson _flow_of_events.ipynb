{
 "cells": [
  {
   "cell_type": "code",
   "execution_count": 19,
   "id": "adult-prophet",
   "metadata": {},
   "outputs": [],
   "source": [
    "import datetime\n",
    "import random"
   ]
  },
  {
   "cell_type": "code",
   "execution_count": 29,
   "id": "verbal-ultimate",
   "metadata": {},
   "outputs": [],
   "source": [
    "def timer():\n",
    "    rtime = int(random.random()*86400)\n",
    "    hours   = int(rtime/3600)\n",
    "    minutes = int((rtime - hours*3600)/60)\n",
    "    seconds = rtime - hours*3600 - minutes*60\n",
    "    time_string = '%02d:%02d' % (hours, minutes)\n",
    "    return time_string \n",
    "def randomTime():\n",
    "    current_time = timer()\n",
    "    while current_time <= '10:00' or  current_time >= '20:00':\n",
    "        current_time = timer()\n",
    "    return current_time\n"
   ]
  },
  {
   "cell_type": "code",
   "execution_count": 30,
   "id": "comprehensive-poultry",
   "metadata": {},
   "outputs": [],
   "source": [
    "class Parik:\n",
    " \n",
    "    def __init__(self, time, worktime):\n",
    "        self.wortime = worktime\n",
    "        self.worker_time = time\n",
    "    def what_time_is_it(self, time):\n",
    "        minutes = time.split(':')[1]\n",
    "        hours = time.split(':')[0]\n",
    "        if int(minutes) + self.wortime >= 60:\n",
    "            new_minutes = int(minutes) + self.wortime - 60\n",
    "            new_hours = int(hours) + 1\n",
    "            if str(new_minutes) == '0':\n",
    "                new_minutes = '00'\n",
    "            self.worker_time =(str(new_hours)+':'+str(new_minutes))\n",
    "        else:\n",
    "            new_minutes = int(minutes) + self.wortime\n",
    "            self.worker_time = (str(hours)+':'+str(new_minutes))\n",
    "\n",
    "def comperor(parik1, parik2, parik3):\n",
    "    if parik1.worker_time <= parik2.worker_time and parik1.worker_time <= parik3.worker_time:\n",
    "        return (parik1)\n",
    "    elif  parik2.worker_time <= parik1.worker_time and parik2.worker_time <= parik3.worker_time:\n",
    "        return (parik2)\n",
    "    elif  parik3.worker_time <= parik1.worker_time and parik3.worker_time <= parik2.worker_time:\n",
    "        return (parik3)\n",
    "    \n",
    "def who_is_free(parik1, parik2, parik3, time):\n",
    "    free_people = []\n",
    "    if parik1.worker_time < time:\n",
    "        free_people.append(0)\n",
    "    else:\n",
    "        free_people.append(1)\n",
    "    if parik2.worker_time < time:\n",
    "        free_people.append(0)\n",
    "    else:\n",
    "        free_people.append(1)\n",
    "    if parik3.worker_time < time:\n",
    "        free_people.append(0)\n",
    "    else:\n",
    "        free_people.append(1)\n",
    "    return free_people\n"
   ]
  },
  {
   "cell_type": "markdown",
   "id": "adopted-selection",
   "metadata": {},
   "source": [
    "### Тут создаем случайный поток посетителей"
   ]
  },
  {
   "cell_type": "code",
   "execution_count": 50,
   "id": "potential-novel",
   "metadata": {},
   "outputs": [
    {
     "data": {
      "text/plain": [
       "['10:06',\n",
       " '10:16',\n",
       " '10:36',\n",
       " '10:40',\n",
       " '10:48',\n",
       " '10:52',\n",
       " '11:02',\n",
       " '11:12',\n",
       " '11:40',\n",
       " '11:47',\n",
       " '11:57',\n",
       " '12:41',\n",
       " '13:29',\n",
       " '13:57',\n",
       " '14:10',\n",
       " '14:23',\n",
       " '14:33',\n",
       " '14:59',\n",
       " '15:07',\n",
       " '15:18',\n",
       " '15:26',\n",
       " '15:38',\n",
       " '15:38',\n",
       " '16:13',\n",
       " '16:41',\n",
       " '16:44',\n",
       " '17:14',\n",
       " '17:38',\n",
       " '17:53',\n",
       " '18:37',\n",
       " '19:01',\n",
       " '19:03',\n",
       " '19:28',\n",
       " '19:29']"
      ]
     },
     "execution_count": 50,
     "metadata": {},
     "output_type": "execute_result"
    }
   ],
   "source": [
    "\n",
    "queue = [] \n",
    "for i in range(34):\n",
    "    queue.append(randomTime())\n",
    "queue = sorted(queue)\n",
    "queue"
   ]
  },
  {
   "cell_type": "markdown",
   "id": "independent-cheese",
   "metadata": {},
   "source": [
    "### Объект парикмахер принимает 2 параметра - время выхода на смену и длительность работы. Как раз можно поиграться - кто-то на полсмены выходит только вечером и тд"
   ]
  },
  {
   "cell_type": "code",
   "execution_count": 51,
   "id": "sharing-cradle",
   "metadata": {},
   "outputs": [
    {
     "name": "stdout",
     "output_type": "stream",
     "text": [
      "10:06 ochered 0 [1, 0, 0]\n",
      "10:16 ochered 0 [1, 1, 0]\n",
      "10:36 ochered 0 [1, 1, 1]\n",
      "10:40 ochered 1 [1, 1, 1]\n",
      "10:48 ochered 2 [1, 1, 1]\n",
      "10:52 ochered 2 [1, 1, 1]\n",
      "11:02 ochered 2 [1, 1, 1]\n",
      "11:12 ochered 3 [1, 1, 1]\n",
      "11:40 ochered 1 [1, 1, 1]\n",
      "11:47 ochered 2 [1, 1, 1]\n",
      "11:57 ochered 2 [1, 1, 1]\n",
      "12:41 ochered 0 [1, 1, 1]\n",
      "13:29 ochered 0 [1, 0, 1]\n",
      "13:57 ochered 0 [1, 1, 1]\n",
      "14:10 ochered 0 [1, 1, 1]\n",
      "14:23 ochered 1 [1, 1, 1]\n",
      "14:33 ochered 2 [1, 1, 1]\n",
      "14:59 ochered 1 [1, 1, 1]\n",
      "15:07 ochered 0 [1, 1, 1]\n",
      "15:18 ochered 1 [1, 1, 1]\n",
      "15:26 ochered 2 [1, 1, 1]\n",
      "15:38 ochered 3 [1, 1, 1]\n",
      "15:38 ochered 4 [1, 1, 1]\n",
      "16:13 ochered 1 [1, 1, 1]\n",
      "16:41 ochered 0 [1, 1, 0]\n",
      "16:44 ochered 0 [1, 1, 1]\n",
      "17:14 ochered 0 [1, 1, 1]\n",
      "17:38 ochered 0 [0, 1, 1]\n",
      "17:53 ochered 0 [1, 0, 1]\n",
      "18:37 ochered 0 [1, 1, 0]\n",
      "19:01 ochered 0 [0, 1, 1]\n",
      "19:03 ochered 0 [1, 1, 1]\n",
      "19:28 ochered 0 [1, 1, 1]\n",
      "19:29 ochered 1 [1, 1, 1]\n"
     ]
    }
   ],
   "source": [
    "ochered = 0\n",
    "parik1 = Parik('09:59', 45) \n",
    "parik2 = Parik('09:59', 36)\n",
    "parik3 = Parik('09:59', 40)\n",
    "for i in (queue):\n",
    "    if ochered > 0:\n",
    "        who_free = comperor(parik1,parik2,parik3)\n",
    "        while who_free.worker_time < i and ochered > 0:\n",
    "            who_free.what_time_is_it(who_free.worker_time)\n",
    "            ochered -= 1\n",
    "            who_free = comperor(parik1,parik2,parik3)\n",
    "    who_free = comperor(parik1,parik2,parik3)\n",
    "    if who_free.worker_time < i:\n",
    "        who_free.what_time_is_it(i)\n",
    "    else:\n",
    "        ochered += 1\n",
    "    print(f'{i} ochered {ochered} {who_is_free(parik1,parik2,parik3, i)}')"
   ]
  },
  {
   "cell_type": "markdown",
   "id": "incoming-booth",
   "metadata": {},
   "source": [
    "### Какие выводы можно сделать\n",
    "* При условии, что парикмахер работает в среднем 40 минут, то наиболее комфортный режим работы - 11 человек на специалиста\n",
    "* В таком случае не создается огромной очереди и не происходит простоя специалиста.\n",
    "* Система достаточно гибкая и, самом собой, в реальности требуется человеку перерыв. Это можно настроить. Но так или иначе модель полуяилась достаточно реалистичной (как по мне)"
   ]
  },
  {
   "cell_type": "code",
   "execution_count": null,
   "id": "entertaining-short",
   "metadata": {},
   "outputs": [],
   "source": []
  }
 ],
 "metadata": {
  "kernelspec": {
   "display_name": "Python 3",
   "language": "python",
   "name": "python3"
  },
  "language_info": {
   "codemirror_mode": {
    "name": "ipython",
    "version": 3
   },
   "file_extension": ".py",
   "mimetype": "text/x-python",
   "name": "python",
   "nbconvert_exporter": "python",
   "pygments_lexer": "ipython3",
   "version": "3.8.5"
  }
 },
 "nbformat": 4,
 "nbformat_minor": 5
}
